{
 "cells": [
  {
   "cell_type": "code",
   "execution_count": null,
   "id": "bab257b3",
   "metadata": {},
   "outputs": [
    {
     "name": "stdout",
     "output_type": "stream",
     "text": [
      "shap not available at import time (will try again during SHAP step): Could not find/load shared object file\n",
      "Loaded 379 companies from merged_data.csv\n",
      "Columns: ['Symbol', 'Sector_esg', 'Total ESG Risk score', 'Environment Risk Score', 'Social Risk Score', 'Governance Risk Score', 'Controversy Level', 'Controversy Score', 'ESG Risk Percentile', 'ESG Risk Level', 'risk_flag', 'Sector_fin', 'Price', 'Price/Earnings', 'Dividend Yield', 'Earnings/Share', 'Market Cap', 'EBITDA', 'Price/Sales', 'Price/Book', 'debt_to_equity', 'roe', 'name']\n",
      "Accuracy: 0.97\n",
      "SHAP failed (OK for demo): Could not find/load shared object file\n",
      "Model saved (no SHAP)\n",
      "Training complete! Ready for dashboard.\n",
      "SHAP failed (OK for demo): Could not find/load shared object file\n",
      "Model saved (no SHAP)\n",
      "Training complete! Ready for dashboard.\n"
     ]
    }
   ],
   "source": [
    "# model_training.ipynb — FINAL & BULLETPROOF\n",
    "import pandas as pd\n",
    "from sklearn.model_selection import train_test_split\n",
    "from sklearn.ensemble import RandomForestClassifier\n",
    "from sklearn.metrics import accuracy_score\n",
    "import joblib\n",
    "import matplotlib.pyplot as plt\n",
    "import os\n",
    "\n",
    "# === LOAD FROM CSV ===\n",
    "csv_path = '../../data/processed/merged_data.csv'\n",
    "df = pd.read_csv(csv_path)\n",
    "\n",
    "print(f\"Loaded {len(df)} companies from merged_data.csv\")\n",
    "print(\"Columns:\", list(df.columns))\n",
    "\n",
    "# === ENSURE risk_flag EXISTS ===\n",
    "if 'risk_flag' not in df.columns:\n",
    "    print(\"ERROR: 'risk_flag' missing! Check data_cleaning.ipynb\")\n",
    "    print(\"Adding dummy risk_flag = 1 for all (FOR TESTING ONLY)\")\n",
    "    df['risk_flag'] = 1  # ← TEMP FIX (REMOVE LATER)\n",
    "\n",
    "# === FEATURES & TARGET ===\n",
    "features = [\n",
    "    'Total ESG Risk score', 'Environment Risk Score',\n",
    "    'Social Risk Score', 'Governance Risk Score',\n",
    "    'debt_to_equity', 'roe'\n",
    "]\n",
    "\n",
    "# Ensure all features exist\n",
    "missing_features = [f for f in features if f not in df.columns]\n",
    "if missing_features:\n",
    "    print(f\"Missing features: {missing_features} → filling with 0\")\n",
    "    for f in missing_features:\n",
    "        df[f] = 0\n",
    "\n",
    "X = df[features].fillna(0)\n",
    "y = df['risk_flag']\n",
    "\n",
    "# === TRAIN MODEL ===\n",
    "X_train, X_test, y_train, y_test = train_test_split(X, y, test_size=0.2, random_state=42)\n",
    "model = RandomForestClassifier(n_estimators=100, random_state=42)\n",
    "model.fit(X_train, y_train)\n",
    "\n",
    "# === EVALUATE ===\n",
    "preds = model.predict(X_test)\n",
    "acc = accuracy_score(y_test, preds)\n",
    "print(f\"Accuracy: {acc:.2f}\")\n",
    "\n",
    "# === SHAP (Optional) ===\n",
    "try:\n",
    "    import shap\n",
    "    explainer = shap.TreeExplainer(model)\n",
    "    shap_values = explainer.shap_values(X_test)\n",
    "    \n",
    "    # Plot\n",
    "    plt.figure()\n",
    "    shap.summary_plot(shap_values[1], X_test, show=False)\n",
    "    plt.title(\"SHAP Feature Importance\")\n",
    "    plt.tight_layout()\n",
    "    plt.show()\n",
    "\n",
    "    # Save\n",
    "    os.makedirs('../../python/scripts', exist_ok=True)\n",
    "    joblib.dump(model, '../../python/scripts/rf_model.pkl')\n",
    "    joblib.dump(explainer, '../../python/scripts/shap_explainer.pkl')\n",
    "    print(\"Model + SHAP explainer saved!\")\n",
    "except Exception as e:\n",
    "    print(f\"SHAP failed (OK for demo): {e}\")\n",
    "    os.makedirs('../../python/scripts', exist_ok=True)\n",
    "    joblib.dump(model, '../../python/scripts/rf_model.pkl')\n",
    "    print(\"Model saved (no SHAP)\")\n",
    "\n",
    "print(\"Training complete! Ready for dashboard.\")"
   ]
  },
  {
   "cell_type": "code",
   "execution_count": 16,
   "id": "675436a4",
   "metadata": {},
   "outputs": [
    {
     "name": "stdout",
     "output_type": "stream",
     "text": [
      "Requirement already satisfied: pandas in c:\\users\\dhivy\\appdata\\local\\programs\\python\\python310\\lib\\site-packages (2.0.3)Note: you may need to restart the kernel to use updated packages.\n",
      "\n",
      "Requirement already satisfied: scikit-learn in c:\\users\\dhivy\\appdata\\local\\programs\\python\\python310\\lib\\site-packages (1.3.0)\n",
      "Requirement already satisfied: joblib in c:\\users\\dhivy\\appdata\\local\\programs\\python\\python310\\lib\\site-packages (1.3.2)\n",
      "Requirement already satisfied: matplotlib in c:\\users\\dhivy\\appdata\\local\\programs\\python\\python310\\lib\\site-packages (3.7.2)\n",
      "Requirement already satisfied: shap in c:\\users\\dhivy\\appdata\\local\\programs\\python\\python310\\lib\\site-packages (0.42.1)\n",
      "Requirement already satisfied: python-dateutil>=2.8.2 in c:\\users\\dhivy\\appdata\\local\\programs\\python\\python310\\lib\\site-packages (from pandas) (2.9.0.post0)\n",
      "Requirement already satisfied: pytz>=2020.1 in c:\\users\\dhivy\\appdata\\local\\programs\\python\\python310\\lib\\site-packages (from pandas) (2025.2)\n",
      "Requirement already satisfied: tzdata>=2022.1 in c:\\users\\dhivy\\appdata\\local\\programs\\python\\python310\\lib\\site-packages (from pandas) (2025.2)\n",
      "Requirement already satisfied: numpy>=1.21.0 in c:\\users\\dhivy\\appdata\\local\\programs\\python\\python310\\lib\\site-packages (from pandas) (1.24.3)\n",
      "Requirement already satisfied: scipy>=1.5.0 in c:\\users\\dhivy\\appdata\\local\\programs\\python\\python310\\lib\\site-packages (from scikit-learn) (1.11.1)\n",
      "Requirement already satisfied: threadpoolctl>=2.0.0 in c:\\users\\dhivy\\appdata\\local\\programs\\python\\python310\\lib\\site-packages (from scikit-learn) (3.6.0)\n",
      "Requirement already satisfied: contourpy>=1.0.1 in c:\\users\\dhivy\\appdata\\local\\programs\\python\\python310\\lib\\site-packages (from matplotlib) (1.3.2)\n",
      "Requirement already satisfied: cycler>=0.10 in c:\\users\\dhivy\\appdata\\local\\programs\\python\\python310\\lib\\site-packages (from matplotlib) (0.12.1)\n",
      "Requirement already satisfied: fonttools>=4.22.0 in c:\\users\\dhivy\\appdata\\local\\programs\\python\\python310\\lib\\site-packages (from matplotlib) (4.60.0)\n",
      "Requirement already satisfied: kiwisolver>=1.0.1 in c:\\users\\dhivy\\appdata\\local\\programs\\python\\python310\\lib\\site-packages (from matplotlib) (1.4.9)\n",
      "Requirement already satisfied: packaging>=20.0 in c:\\users\\dhivy\\appdata\\local\\programs\\python\\python310\\lib\\site-packages (from matplotlib) (24.2)\n",
      "Requirement already satisfied: pillow>=6.2.0 in c:\\users\\dhivy\\appdata\\local\\programs\\python\\python310\\lib\\site-packages (from matplotlib) (11.2.1)\n",
      "Requirement already satisfied: pyparsing<3.1,>=2.3.1 in c:\\users\\dhivy\\appdata\\local\\programs\\python\\python310\\lib\\site-packages (from matplotlib) (3.0.9)\n",
      "Requirement already satisfied: tqdm>=4.27.0 in c:\\users\\dhivy\\appdata\\local\\programs\\python\\python310\\lib\\site-packages (from shap) (4.67.1)\n",
      "Requirement already satisfied: slicer==0.0.7 in c:\\users\\dhivy\\appdata\\local\\programs\\python\\python310\\lib\\site-packages (from shap) (0.0.7)\n",
      "Requirement already satisfied: numba in c:\\users\\dhivy\\appdata\\local\\programs\\python\\python310\\lib\\site-packages (from shap) (0.62.0)\n",
      "Requirement already satisfied: cloudpickle in c:\\users\\dhivy\\appdata\\local\\programs\\python\\python310\\lib\\site-packages (from shap) (3.1.1)\n",
      "Requirement already satisfied: six>=1.5 in c:\\users\\dhivy\\appdata\\local\\programs\\python\\python310\\lib\\site-packages (from python-dateutil>=2.8.2->pandas) (1.17.0)\n",
      "Requirement already satisfied: colorama in c:\\users\\dhivy\\appdata\\local\\programs\\python\\python310\\lib\\site-packages (from tqdm>=4.27.0->shap) (0.4.6)\n",
      "Requirement already satisfied: llvmlite<0.46,>=0.45.0dev0 in c:\\users\\dhivy\\appdata\\local\\programs\\python\\python310\\lib\\site-packages (from numba->shap) (0.45.0)\n"
     ]
    },
    {
     "name": "stderr",
     "output_type": "stream",
     "text": [
      "WARNING: Ignoring invalid distribution -umpy (c:\\users\\dhivy\\appdata\\local\\programs\\python\\python310\\lib\\site-packages)\n",
      "WARNING: Ignoring invalid distribution -umpy (c:\\users\\dhivy\\appdata\\local\\programs\\python\\python310\\lib\\site-packages)\n",
      "WARNING: Ignoring invalid distribution -umpy (c:\\users\\dhivy\\appdata\\local\\programs\\python\\python310\\lib\\site-packages)\n",
      "\n",
      "[notice] A new release of pip is available: 25.1.1 -> 25.3\n",
      "[notice] To update, run: python.exe -m pip install --upgrade pip\n"
     ]
    }
   ],
   "source": [
    "\n",
    "\n",
    "pip install pandas scikit-learn joblib matplotlib shap"
   ]
  },
  {
   "cell_type": "code",
   "execution_count": null,
   "id": "d14cf549",
   "metadata": {},
   "outputs": [],
   "source": []
  }
 ],
 "metadata": {
  "kernelspec": {
   "display_name": "Python 3",
   "language": "python",
   "name": "python3"
  },
  "language_info": {
   "codemirror_mode": {
    "name": "ipython",
    "version": 3
   },
   "file_extension": ".py",
   "mimetype": "text/x-python",
   "name": "python",
   "nbconvert_exporter": "python",
   "pygments_lexer": "ipython3",
   "version": "3.10.7"
  }
 },
 "nbformat": 4,
 "nbformat_minor": 5
}
